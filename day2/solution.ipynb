{
 "cells": [
  {
   "cell_type": "code",
   "execution_count": 14,
   "metadata": {},
   "outputs": [],
   "source": [
    "import numpy as np\n",
    "import pandas as pd"
   ]
  },
  {
   "cell_type": "code",
   "execution_count": 32,
   "metadata": {},
   "outputs": [],
   "source": [
    "all_but_one = lambda x, **args: np.sum(x.astype(bool), **args) >= np.sum(np.isnan(x), **args) - 1"
   ]
  },
  {
   "cell_type": "code",
   "execution_count": 2,
   "metadata": {},
   "outputs": [],
   "source": [
    "example = np.array([\n",
    "\t[7, 6, 4, 2, 1],\n",
    "\t[1, 2, 7, 8, 9],\n",
    "\t[9, 7, 6, 2, 1],\n",
    "\t[1, 3, 2, 4, 5],\n",
    "\t[8, 6, 4, 4, 1],\n",
    "\t[1, 3, 6, 7, 9],\n",
    "])"
   ]
  },
  {
   "cell_type": "code",
   "execution_count": null,
   "metadata": {},
   "outputs": [
    {
     "data": {
      "text/plain": [
       "2"
      ]
     },
     "execution_count": 13,
     "metadata": {},
     "output_type": "execute_result"
    }
   ],
   "source": [
    "# Part 1\n",
    "diffs = example[:,:-1] - example[:,1:]\n",
    "np.sum(\n",
    "\t(np.all(diffs > 0, axis=1) | np.all(diffs < 0, axis=1)) &\n",
    "\tnp.all((np.abs(diffs) >= 1) & (np.abs(diffs) <= 3), axis=1)\n",
    ")"
   ]
  },
  {
   "cell_type": "code",
   "execution_count": 84,
   "metadata": {},
   "outputs": [
    {
     "data": {
      "text/plain": [
       "4"
      ]
     },
     "execution_count": 84,
     "metadata": {},
     "output_type": "execute_result"
    }
   ],
   "source": [
    "# Part 2\n",
    "square = np.tile(np.arange(example.shape[1]), (example.shape[1], 1))\n",
    "indices = square[~np.eye(square.shape[0],dtype=bool)].reshape(square.shape[0],-1)\n",
    "one_left_out_full = example[:,indices]\n",
    "diffs = one_left_out_full[:,:,:-1] - one_left_out_full[:,:,1:]\n",
    "np.any(\n",
    "\t(np.all(diffs > 0, axis=2) | np.all(diffs < 0, axis=2)) &\n",
    "\tnp.all((np.abs(diffs) >= 1) & (np.abs(diffs) <= 3), axis=2),\n",
    "\taxis = 1\n",
    ").sum()"
   ]
  },
  {
   "cell_type": "code",
   "execution_count": null,
   "metadata": {},
   "outputs": [],
   "source": [
    "data = pd.read_csv('day2.txt', header=None, delimiter=' ', names = range(10)).to_numpy()"
   ]
  },
  {
   "cell_type": "code",
   "execution_count": null,
   "metadata": {},
   "outputs": [
    {
     "data": {
      "text/plain": [
       "383"
      ]
     },
     "execution_count": 31,
     "metadata": {},
     "output_type": "execute_result"
    }
   ],
   "source": [
    "# Part 1\n",
    "diffs = data[:,:-1] - data[:,1:]\n",
    "isnan = np.isnan(diffs)\n",
    "np.sum(\n",
    "\t(np.all((diffs > 0) | isnan, axis=1) | np.all((diffs < 0) | isnan, axis=1)) &\n",
    "\tnp.all(((np.abs(diffs) >= 1) & (np.abs(diffs) <= 3)) | isnan, axis=1)\n",
    ")"
   ]
  },
  {
   "cell_type": "code",
   "execution_count": 87,
   "metadata": {},
   "outputs": [
    {
     "data": {
      "text/plain": [
       "436"
      ]
     },
     "execution_count": 87,
     "metadata": {},
     "output_type": "execute_result"
    }
   ],
   "source": [
    "# Part 2\n",
    "square = np.tile(np.arange(data.shape[1]), (data.shape[1], 1))\n",
    "indices = square[~np.eye(square.shape[0],dtype=bool)].reshape(square.shape[0],-1)\n",
    "one_left_out_full = data[:,indices]\n",
    "diffs = one_left_out_full[:,:,:-1] - one_left_out_full[:,:,1:]\n",
    "isnan = np.isnan(diffs)\n",
    "np.any(\n",
    "\t(np.all((diffs > 0) | isnan, axis=2) | np.all((diffs < 0) | isnan, axis=2)) &\n",
    "\tnp.all(((np.abs(diffs) >= 1) & (np.abs(diffs) <= 3)) | isnan, axis=2),\n",
    "\taxis = 1\n",
    ").sum()"
   ]
  }
 ],
 "metadata": {
  "kernelspec": {
   "display_name": "Python 3",
   "language": "python",
   "name": "python3"
  },
  "language_info": {
   "codemirror_mode": {
    "name": "ipython",
    "version": 3
   },
   "file_extension": ".py",
   "mimetype": "text/x-python",
   "name": "python",
   "nbconvert_exporter": "python",
   "pygments_lexer": "ipython3",
   "version": "3.11.1"
  }
 },
 "nbformat": 4,
 "nbformat_minor": 2
}
